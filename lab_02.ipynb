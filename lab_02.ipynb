{
  "nbformat": 4,
  "nbformat_minor": 0,
  "metadata": {
    "colab": {
      "provenance": [],
      "authorship_tag": "ABX9TyMMko0WDffLTnDEn5on1sh7",
      "include_colab_link": true
    },
    "kernelspec": {
      "name": "python3",
      "display_name": "Python 3"
    },
    "language_info": {
      "name": "python"
    }
  },
  "cells": [
    {
      "cell_type": "markdown",
      "metadata": {
        "id": "view-in-github",
        "colab_type": "text"
      },
      "source": [
        "<a href=\"https://colab.research.google.com/github/2203a51531/AIML-BATCH-10/blob/main/lab_02.ipynb\" target=\"_parent\"><img src=\"https://colab.research.google.com/assets/colab-badge.svg\" alt=\"Open In Colab\"/></a>"
      ]
    },
    {
      "cell_type": "code",
      "source": [
        "graph1={\n",
        "  'A':['B','S'],\n",
        "  'B':['A'],\n",
        "  'C':['D','E','F','S'],\n",
        "  'D':['C'],\n",
        "  'E':['C','H'],\n",
        "  'F':['F','G'],\n",
        "  'G':['F','S'],\n",
        "  'H':['E','G'],\n",
        "  'S':['A','C','G']\n",
        "  }\n",
        "def dfs(graph,node,visited):\n",
        "    if node not in visited:\n",
        "          visited.append(node)\n",
        "          for k in graph[node]:\n",
        "              dfs(graph,k,visited)\n",
        "          return visited\n",
        "visited=dfs(graph1,'A',[])\n",
        "print(visited)\n"
      ],
      "metadata": {
        "colab": {
          "base_uri": "https://localhost:8080/"
        },
        "id": "vFPKpFwbu_iY",
        "outputId": "0191ad2c-3bbd-4110-cb8a-a5f802ca6464"
      },
      "execution_count": 5,
      "outputs": [
        {
          "output_type": "stream",
          "name": "stdout",
          "text": [
            "['A', 'B', 'S', 'C', 'D', 'E', 'H', 'G', 'F']\n"
          ]
        }
      ]
    },
    {
      "cell_type": "code",
      "source": [
        "\n",
        "\n",
        "graph={\n",
        "\n",
        "\n",
        "'0':['1','3'],\n",
        "'1':['2','3'],\n",
        "'2':['4','5'],\n",
        "'3':[],\n",
        "'4':['5'],\n",
        "'5':[],\n",
        "}\n",
        "visited=[]\n",
        "queue=[]\n",
        "def bfs(visited,graph,node):\n",
        "  visited.append(node)\n",
        "  queue.append(node)\n",
        "  while queue:\n",
        "    m=queue.pop(0)\n",
        "    print(m,end=\" \")\n",
        "    for neighbour in graph[m]:\n",
        "\n",
        "\n",
        "\n",
        "\n",
        "\n",
        "\n",
        "       if neighbour not in visited:\n",
        "\n",
        "          visited.append(neighbour)\n",
        "          queue.append(neighbour)\n",
        "print(\"Breadth-First search for the graph\")\n",
        "bfs(visited,graph,'0')\n"
      ],
      "metadata": {
        "colab": {
          "base_uri": "https://localhost:8080/"
        },
        "id": "KbyB5q52wUZm",
        "outputId": "f5a90cab-b980-42dc-eb14-69ff65c95b82"
      },
      "execution_count": 6,
      "outputs": [
        {
          "output_type": "stream",
          "name": "stdout",
          "text": [
            "Breadth-First search for the graph\n",
            "0 1 3 2 4 5 "
          ]
        }
      ]
    },
    {
      "cell_type": "code",
      "source": [
        "import numpy as np\n",
        "from heapq import heappush, heappop\n",
        "\n",
        "class AStar:\n",
        "  def __init__(self, grid):\n",
        "        self.grid = grid\n",
        "        self.num_rows, self.num_cols = grid.shape\n",
        "        self.start = None\n",
        "        self.goal = None\n",
        "\n",
        "  def find_path(self, start, goal):\n",
        "       self.start = start\n",
        "       self.goal = goal\n",
        "       open_list = []\n",
        "       closed_list = set()\n",
        "       heappush(open_list, (0, start))\n",
        "       parent = {}\n",
        "       g_score = {start: 0}\n",
        "       while open_list:\n",
        "        _, current = heappop(open_list)\n",
        "        if current == goal:\n",
        "            return self.reconstruct_path(parent, current)\n",
        "        closed_list.add(current)\n",
        "\n",
        "        for neighbor in self.get_neighbors(current):\n",
        "\n",
        "           if neighbor in closed_list:\n",
        "              continue\n",
        "\n",
        "  def get_neighbors(self, current):\n",
        "      pass\n",
        "\n",
        "  def reconstruct_path(self, parent, current):\n",
        "      pass\n"
      ],
      "metadata": {
        "id": "rfaLU3FqyIhv"
      },
      "execution_count": 8,
      "outputs": []
    }
  ]
}